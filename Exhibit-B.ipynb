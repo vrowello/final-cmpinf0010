{
 "cells": [
  {
   "cell_type": "code",
   "execution_count": 2,
   "metadata": {
    "jupyter": {
     "source_hidden": true
    }
   },
   "outputs": [
    {
     "data": {
      "text/plain": [
       "<matplotlib.axes._subplots.AxesSubplot at 0x7fe4ea88e670>"
      ]
     },
     "execution_count": 2,
     "metadata": {},
     "output_type": "execute_result"
    },
    {
     "data": {
      "image/png": "[encoded data removed]",
      "text/plain": [
       "<Figure size 432x288 with 1 Axes>"
      ]
     },
     "metadata": {
      "needs_background": "light"
     },
     "output_type": "display_data"
    }
   ],
   "source": [
    "import pandas as pd\n",
    "import numpy as np\n",
    "\n",
    "smartcans = pd.read_csv(\"Trash.csv\")\n",
    "\n",
    "i = 0\n",
    "temp_num = 0\n",
    "num_of_cans = []\n",
    "neighborhoods = []\n",
    "while(i < len(smartcans)):\n",
    "    if(smartcans.loc[i,'neighborhood'] in neighborhoods):\n",
    "        temp_num = num_of_cans[neighborhoods.index(smartcans.loc[i,'neighborhood'])]\n",
    "        temp_num += 1\n",
    "        num_of_cans[neighborhoods.index(smartcans.loc[i,'neighborhood'])] = temp_num\n",
    "        i += 1\n",
    "    else:\n",
    "        temp_num = 1\n",
    "        neighborhoods.append(smartcans.loc[i,'neighborhood'])\n",
    "        num_of_cans.append(temp_num)\n",
    "        i += 1\n",
    "    \n",
    "num_of_cans[neighborhoods.index(\"Squirrel Hill North\")] += num_of_cans[neighborhoods.index(\"Squirrel Hill South\")]\n",
    "del(num_of_cans[neighborhoods.index(\"Squirrel Hill South\")])\n",
    "del(neighborhoods[neighborhoods.index(\"Squirrel Hill South\")])\n",
    "neighborhoods[neighborhoods.index(\"Squirrel Hill North\")] = \"Squirrel Hill\"\n",
    "\n",
    "num_of_cans[neighborhoods.index(\"Central Oakland\")] += num_of_cans[neighborhoods.index(\"South Oakland\")]\n",
    "num_of_cans[neighborhoods.index(\"Central Oakland\")] += num_of_cans[neighborhoods.index(\"North Oakland\")]\n",
    "num_of_cans[neighborhoods.index(\"Central Oakland\")] += num_of_cans[neighborhoods.index(\"West Oakland\")]\n",
    "del(num_of_cans[neighborhoods.index(\"South Oakland\")])\n",
    "del(neighborhoods[neighborhoods.index(\"South Oakland\")])\n",
    "del(num_of_cans[neighborhoods.index(\"North Oakland\")])\n",
    "del(neighborhoods[neighborhoods.index(\"North Oakland\")])\n",
    "del(num_of_cans[neighborhoods.index(\"West Oakland\")])\n",
    "del(neighborhoods[neighborhoods.index(\"West Oakland\")])\n",
    "neighborhoods[neighborhoods.index(\"Central Oakland\")] = \"Oakland\"\n",
    "\n",
    "sums = pd.DataFrame(num_of_cans, index=neighborhoods, columns = [\"Number of Smart Cans\"])\n",
    "sums.sort_values(by=[\"Number of Smart Cans\"], inplace=True, ascending=False)\n",
    "\n",
    "sums.head(5).plot.bar()"
   ]
  },
  {
   "cell_type": "markdown",
   "metadata": {},
   "source": [
    "# Rationale\n",
    "I chose to use the number of smart trash cans as a metric of neighborhood quality because it implies the following\n",
    "\n",
    "- That the city sees the neighborhood as one worth investing in the most with newer infrastructure\n",
    "- That littering tends to be rare enough where the increase in trash cans, let alone \"smart\" ones is seen as a public work that will be used\n",
    "- That there is enough environmentalist sentiment amongst the population so that such a project would be seen as useful and not as a \"waste\" of tax money compared to other projects more focused on day-to-day needs\n",
    "\n",
    "\n",
    "# Code Explanation\n",
    "The above code does the following:\n",
    "\n",
    "1. Creates a dataframe from the CSV file\n",
    "2. Condenses the data so that the columns are neighborhoods and not individual cans, and that all the cans for said neighborhood are the rows\n",
    "3. Combines \"divided\" neighborhoods (North/South Squrrel Hill, North/South/Central/West Oakland) into singular neighborhoods to keep the data points consistent with other data sets classifications of neighborhoods\n",
    "4. Creates a bar graph of the top five neighborhoods in terms of the number of smart cans\n",
    "\n",
    "# Analysis and Conclusion\n",
    "While the number of parking meters is indicative of historical investment from the city, which in a vaccum may not indicate current \"quality\" of the neighborhood, the smart-trash-cans, being a newer development, represent the city's current willingness to invest in it. As the graph shows, Squirrel Hill, being in first, shows that the city is willing to invest the most money into it for newer developments. This shows a faith in the neighborhood by the city in its prospects for long-term sustained prosperity, also known in this analysis as \"quality\""
   ]
  },
  {
   "cell_type": "code",
   "execution_count": null,
   "metadata": {},
   "outputs": [],
   "source": []
  }
 ],
 "metadata": {
  "kernelspec": {
   "display_name": "Python 3",
   "language": "python",
   "name": "python3"
  },
  "language_info": {
   "codemirror_mode": {
    "name": "ipython",
    "version": 3
   },
   "file_extension": ".py",
   "mimetype": "text/x-python",
   "name": "python",
   "nbconvert_exporter": "python",
   "pygments_lexer": "ipython3",
   "version": "3.8.3"
  }
 },
 "nbformat": 4,
 "nbformat_minor": 4
}
