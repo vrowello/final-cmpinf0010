{
 "cells": [
  {
   "cell_type": "code",
   "execution_count": 2,
   "metadata": {
    "jupyter": {
     "source_hidden": true
    }
   },
   "outputs": [
    {
     "name": "stderr",
     "output_type": "stream",
     "text": [
      "/opt/tljh/user/lib/python3.8/site-packages/IPython/core/interactiveshell.py:3071: DtypeWarning: Columns (1) have mixed types.Specify dtype option on import or set low_memory=False.\n",
      "  has_raised = await self.run_ast_nodes(code_ast.body, cell_name,\n"
     ]
    },
    {
     "data": {
      "text/plain": [
       "<matplotlib.axes._subplots.AxesSubplot at 0x7f5b29df79a0>"
      ]
     },
     "execution_count": 2,
     "metadata": {},
     "output_type": "execute_result"
    },
    {
     "data": {
      "image/png": "[encoded data removed]",
      "text/plain": [
       "<Figure size 432x288 with 1 Axes>"
      ]
     },
     "metadata": {
      "needs_background": "light"
     },
     "output_type": "display_data"
    }
   ],
   "source": [
    "import pandas as pd\n",
    "import numpy as np\n",
    "\n",
    "trees = pd.read_csv('Trees.csv')\n",
    "\n",
    "i = 0\n",
    "temp_num = 0\n",
    "num_of_trees = []\n",
    "neighborhoods = []\n",
    "while(i < len(trees)):\n",
    "    if(trees.loc[i,'neighborhood'] in neighborhoods):\n",
    "        temp_num = num_of_trees[neighborhoods.index(trees.loc[i,'neighborhood'])]\n",
    "        temp_num += 1\n",
    "        num_of_trees[neighborhoods.index(trees.loc[i,'neighborhood'])] = temp_num\n",
    "        i += 1\n",
    "    else:\n",
    "        temp_num = 1\n",
    "        neighborhoods.append(trees.loc[i,'neighborhood'])\n",
    "        num_of_trees.append(temp_num)\n",
    "        i += 1\n",
    "        \n",
    "num_of_trees[neighborhoods.index(\"Squirrel Hill North\")] += num_of_trees[neighborhoods.index(\"Squirrel Hill South\")]\n",
    "del(num_of_trees[neighborhoods.index(\"Squirrel Hill South\")])\n",
    "del(neighborhoods[neighborhoods.index(\"Squirrel Hill South\")])\n",
    "neighborhoods[neighborhoods.index(\"Squirrel Hill North\")] = \"Squirrel Hill\"\n",
    "\n",
    "num_of_trees[neighborhoods.index(\"Central Oakland\")] += num_of_trees[neighborhoods.index(\"South Oakland\")]\n",
    "num_of_trees[neighborhoods.index(\"Central Oakland\")] += num_of_trees[neighborhoods.index(\"North Oakland\")]\n",
    "num_of_trees[neighborhoods.index(\"Central Oakland\")] += num_of_trees[neighborhoods.index(\"West Oakland\")]\n",
    "del(num_of_trees[neighborhoods.index(\"South Oakland\")])\n",
    "del(neighborhoods[neighborhoods.index(\"South Oakland\")])\n",
    "del(num_of_trees[neighborhoods.index(\"North Oakland\")])\n",
    "del(neighborhoods[neighborhoods.index(\"North Oakland\")])\n",
    "del(num_of_trees[neighborhoods.index(\"West Oakland\")])\n",
    "del(neighborhoods[neighborhoods.index(\"West Oakland\")])\n",
    "neighborhoods[neighborhoods.index(\"Central Oakland\")] = \"Oakland\"\n",
    "\n",
    "sums = pd.DataFrame(num_of_trees, index=neighborhoods, columns = [\"Number of Trees\"])\n",
    "sums.sort_values(by=[\"Number of Trees\"], inplace=True, ascending=False)\n",
    "\n",
    "sums.head(5).plot.bar()"
   ]
  },
  {
   "cell_type": "markdown",
   "metadata": {},
   "source": [
    "# Rationale\n",
    "I chose to use the number of smart trash cans as a metric of neighborhood quality because it implies the following\n",
    "\n",
    "- That there is enough environmentalist sentiment amongst the population so that such an effort would be appreciated by the local populace seen as useful and not as a \"waste\" of tax money compared to other projects more focused on day-to-day needs\n",
    "- That the city views the neighborhood as tourist-friendly enough that the cultivation and maintenence of trees in it would provide a return on investment due to it being attractive enough for tourists and/or locals from other neighborhoods to walk around and provide patronage to local businesses.\n",
    "\n",
    "\n",
    "# Code Explanation\n",
    "The above code does the following:\n",
    "\n",
    "1. Creates a dataframe from the CSV file\n",
    "2. Condenses the data so that the columns are neighborhoods and not individual trees, and that all the trees for said neighborhood are the rows\n",
    "3. Combines \"divided\" neighborhoods (North/South Squrrel Hill, North/South/Central/West Oakland) into singular neighborhoods to keep the data points consistent with other data sets classifications of neighborhoods\n",
    "4. Creates a bar graph of the top five neighborhoods in terms of the number of trees\n",
    "\n",
    "# Analysis and Conclusion\n",
    "While the number of parking meters is indicative of historical investment from the city, and the smart-trash-cans, being a newer development, represent the city's current willingness to invest in it, the number of trees in a neighborhood encapsulates both, as trees live for a long time, and the need for routine maintenence on them does not decrease with time. As the graph shows, Squirrel Hill, being in first by a longshot, shows that the city is willing to invest the most money into it over long periods of time. This shows a faith in the neighborhood by the city in its prospects for stability, as permenant, maintenence-heavy projects are considered viable. The reason why this data point was kept despite being an outlier was because; while omitting Oakland from the meter conclusion allowed one to see how Squirrel Hill remains competitive in that metric, keeping Squirrel Hill as an outlier here demonstrates that same point, albeit through a large gap compared to other neighborhoods."
   ]
  },
  {
   "cell_type": "code",
   "execution_count": null,
   "metadata": {},
   "outputs": [],
   "source": []
  }
 ],
 "metadata": {
  "kernelspec": {
   "display_name": "Python 3",
   "language": "python",
   "name": "python3"
  },
  "language_info": {
   "codemirror_mode": {
    "name": "ipython",
    "version": 3
   },
   "file_extension": ".py",
   "mimetype": "text/x-python",
   "name": "python",
   "nbconvert_exporter": "python",
   "pygments_lexer": "ipython3",
   "version": "3.8.3"
  }
 },
 "nbformat": 4,
 "nbformat_minor": 4
}
