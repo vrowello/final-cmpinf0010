{
 "cells": [
  {
   "cell_type": "markdown",
   "metadata": {},
   "source": [
    "# Quantitative Comparison of Pittsburgh's Neighborhoods\n",
    "Victor Rowello - vfr2@pitt.edu"
   ]
  },
  {
   "cell_type": "markdown",
   "metadata": {},
   "source": [
    "## Abstract\n",
    "As the distinction of 'best' is in and of itself subjective when used in terms of something as broad as the 'Best neighborhood to live in', the process of determining this is going to be predicated on the data being used to illustrate it. As a general rule, for the purposes of discussion, I am defining 'best' as recieving the greatest amount of investment from the City of Pittsburgh. For this study, the following metrics were used.\n",
    "\n",
    "- [Number of Parking Meters](Exhibit-A.ipynb)\n",
    "- [Number of \"Smart\" Trash Cans](Exhibit-B.ipynb)\n",
    "- [Number of Trees](Exhibit-C.ipynb)\n",
    "\n",
    "The exact rationale for each of these metrics will be elaborated in their respective notebooks, but nonetheless they serve as a general metric for the amount of public funds which the city is willing to invest towards the commercial and environmental well-being for a neighborhood. Through these metrics, I have determined Squirrel Hill to be the 'best' (in the context of this study) neighborhood in Pittsburgh, by virtue of being the 'best' in two of the metrics, one of which being by a signifigant margin, and in the top five of another.\n",
    "\n",
    "## Data Used\n",
    "\n",
    "- [Smart Trash Cans: ](https://data.wprdc.org/dataset/smart-trash-containers) A list of Smart Trash Cans in the entire city, with neighborhoods being one piece of metadata\n",
    "- [Trees: ](https://data.wprdc.org/dataset/city-trees) A list of Trees in the entire city, with neighborhoods being one piece of metadata\n",
    "- [Meters: ](https://data.wprdc.org/dataset/parking-meters-pittsburgh-parking-authority) A list of Parking Meters in the entire city, with neighborhoods being one piece of metadata\n",
    "\n",
    "## Conclusion\n",
    "As stated before in the abstract, using the given metrics, Squirrel Hill was found to be the best neighborhood by it being competitive in one metric, edging out the others in another, and completely overshadowing the other neighborhoods in the third. What all three metrics showed was that Squirrel Hill is a neighborhood which has seen signifigant investment from the city in both the past, the present, and presumably into the near future. Its performance in these metrics shows a trend of positive stability in the neighborhood, which makes the determination of \"best\" much more valuable in this context, as there is no percieveable trend of Squirrel Hill rising or declining, and as such, for someone looking to establish permenant residence there, it provides much less risk to a prospective homeowner."
   ]
  },
  {
   "cell_type": "code",
   "execution_count": null,
   "metadata": {},
   "outputs": [],
   "source": []
  }
 ],
 "metadata": {
  "kernelspec": {
   "display_name": "Python 3",
   "language": "python",
   "name": "python3"
  },
  "language_info": {
   "codemirror_mode": {
    "name": "ipython",
    "version": 3
   },
   "file_extension": ".py",
   "mimetype": "text/x-python",
   "name": "python",
   "nbconvert_exporter": "python",
   "pygments_lexer": "ipython3",
   "version": "3.8.3"
  }
 },
 "nbformat": 4,
 "nbformat_minor": 4
}
